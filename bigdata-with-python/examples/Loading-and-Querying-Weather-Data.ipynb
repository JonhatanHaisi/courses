{
 "cells": [
  {
   "cell_type": "code",
   "execution_count": 1,
   "metadata": {},
   "outputs": [],
   "source": [
    "import requests, pprint, json, datetime, time\n",
    "from pymongo import MongoClient\n",
    "from secrets import *"
   ]
  },
  {
   "cell_type": "markdown",
   "metadata": {},
   "source": [
    "### Sign up for free API key at [OpenWeather](https://home.openweathermap.org/users/sign_up)"
   ]
  },
  {
   "cell_type": "markdown",
   "metadata": {},
   "source": [
    "## Acquring data from API"
   ]
  },
  {
   "cell_type": "code",
   "execution_count": 2,
   "metadata": {},
   "outputs": [],
   "source": [
    "key = 'put your key here'"
   ]
  },
  {
   "cell_type": "code",
   "execution_count": 3,
   "metadata": {},
   "outputs": [],
   "source": [
    "city='london'"
   ]
  },
  {
   "cell_type": "code",
   "execution_count": 4,
   "metadata": {},
   "outputs": [],
   "source": [
    "requestString='https://api.openweathermap.org/data/2.5/weather?q={}&APPID={}'.format(city, key)"
   ]
  },
  {
   "cell_type": "code",
   "execution_count": 5,
   "metadata": {},
   "outputs": [],
   "source": [
    "res=requests.get(requestString)"
   ]
  },
  {
   "cell_type": "code",
   "execution_count": 6,
   "metadata": {},
   "outputs": [
    {
     "data": {
      "text/plain": [
       "'OK'"
      ]
     },
     "execution_count": 6,
     "metadata": {},
     "output_type": "execute_result"
    }
   ],
   "source": [
    "res.reason"
   ]
  },
  {
   "cell_type": "code",
   "execution_count": 7,
   "metadata": {},
   "outputs": [
    {
     "name": "stdout",
     "output_type": "stream",
     "text": [
      "{'base': 'stations',\n",
      " 'clouds': {'all': 75},\n",
      " 'cod': 200,\n",
      " 'coord': {'lat': 51.51, 'lon': -0.13},\n",
      " 'dt': 1535323800,\n",
      " 'id': 2643743,\n",
      " 'main': {'humidity': 88,\n",
      "          'pressure': 1005,\n",
      "          'temp': 290.04,\n",
      "          'temp_max': 291.15,\n",
      "          'temp_min': 289.15},\n",
      " 'name': 'London',\n",
      " 'sys': {'country': 'GB',\n",
      "         'id': 5091,\n",
      "         'message': 0.0036,\n",
      "         'sunrise': 1535259891,\n",
      "         'sunset': 1535309891,\n",
      "         'type': 1},\n",
      " 'visibility': 10000,\n",
      " 'weather': [{'description': 'light rain',\n",
      "              'icon': '10n',\n",
      "              'id': 500,\n",
      "              'main': 'Rain'}],\n",
      " 'wind': {'deg': 250, 'speed': 6.2}}\n"
     ]
    }
   ],
   "source": [
    "pprint.pprint(res.json())"
   ]
  },
  {
   "cell_type": "code",
   "execution_count": 9,
   "metadata": {},
   "outputs": [],
   "source": [
    "def getData(city):\n",
    "    requestString='https://api.openweathermap.org/data/2.5/weather?q={}&APPID={}'.format(city, key)\n",
    "    res=requests.get(requestString)\n",
    "    return res"
   ]
  },
  {
   "cell_type": "code",
   "execution_count": 10,
   "metadata": {},
   "outputs": [],
   "source": [
    "res=getData('Curitiba')"
   ]
  },
  {
   "cell_type": "code",
   "execution_count": 11,
   "metadata": {},
   "outputs": [
    {
     "data": {
      "text/plain": [
       "<Response [200]>"
      ]
     },
     "execution_count": 11,
     "metadata": {},
     "output_type": "execute_result"
    }
   ],
   "source": [
    "res"
   ]
  },
  {
   "cell_type": "markdown",
   "metadata": {},
   "source": [
    "## Ingesting data into MongoDB"
   ]
  },
  {
   "cell_type": "code",
   "execution_count": 12,
   "metadata": {},
   "outputs": [],
   "source": [
    "client=MongoClient('172.17.0.2')"
   ]
  },
  {
   "cell_type": "code",
   "execution_count": 13,
   "metadata": {},
   "outputs": [],
   "source": [
    "db=client.packt"
   ]
  },
  {
   "cell_type": "code",
   "execution_count": 14,
   "metadata": {},
   "outputs": [],
   "source": [
    "weatherCollection=db.weather"
   ]
  },
  {
   "cell_type": "code",
   "execution_count": 15,
   "metadata": {},
   "outputs": [
    {
     "data": {
      "text/plain": [
       "{'coord': {'lon': -49.27, 'lat': -25.43},\n",
       " 'weather': [{'id': 801,\n",
       "   'main': 'Clouds',\n",
       "   'description': 'few clouds',\n",
       "   'icon': '02n'}],\n",
       " 'base': 'stations',\n",
       " 'main': {'temp': 281.02,\n",
       "  'pressure': 1027,\n",
       "  'humidity': 87,\n",
       "  'temp_min': 279.15,\n",
       "  'temp_max': 282.15},\n",
       " 'visibility': 10000,\n",
       " 'wind': {'speed': 2.6, 'deg': 110},\n",
       " 'clouds': {'all': 20},\n",
       " 'dt': 1535324400,\n",
       " 'sys': {'type': 1,\n",
       "  'id': 4481,\n",
       "  'message': 0.0076,\n",
       "  'country': 'BR',\n",
       "  'sunrise': 1535276050,\n",
       "  'sunset': 1535317399},\n",
       " 'id': 6322752,\n",
       " 'name': 'Curitiba',\n",
       " 'cod': 200}"
      ]
     },
     "execution_count": 15,
     "metadata": {},
     "output_type": "execute_result"
    }
   ],
   "source": [
    "res.json()"
   ]
  },
  {
   "cell_type": "code",
   "execution_count": 16,
   "metadata": {},
   "outputs": [],
   "source": [
    "res=weatherCollection.insert_one(res.json())"
   ]
  },
  {
   "cell_type": "markdown",
   "metadata": {},
   "source": [
    "## Get list of cities"
   ]
  },
  {
   "cell_type": "code",
   "execution_count": 17,
   "metadata": {},
   "outputs": [
    {
     "name": "stdout",
     "output_type": "stream",
     "text": [
      "--2018-08-26 20:38:09--  http://bulk.openweathermap.org/sample/city.list.json.gz\n",
      "Resolving bulk.openweathermap.org (bulk.openweathermap.org)... 78.46.48.103\n",
      "Connecting to bulk.openweathermap.org (bulk.openweathermap.org)|78.46.48.103|:80... connected.\n",
      "HTTP request sent, awaiting response... 200 OK\n",
      "Length: 4292641 (4,1M) [application/octet-stream]\n",
      "Saving to: ‘city.list.json.gz’\n",
      "\n",
      "city.list.json.gz   100%[===================>]   4,09M   136KB/s    in 33s     \n",
      "\n",
      "2018-08-26 20:38:43 (126 KB/s) - ‘city.list.json.gz’ saved [4292641/4292641]\n",
      "\n"
     ]
    }
   ],
   "source": [
    "!wget http://bulk.openweathermap.org/sample/city.list.json.gz"
   ]
  },
  {
   "cell_type": "code",
   "execution_count": 20,
   "metadata": {},
   "outputs": [],
   "source": [
    "!gunzip city.list.json.gz"
   ]
  },
  {
   "cell_type": "code",
   "execution_count": 21,
   "metadata": {},
   "outputs": [
    {
     "name": "stdout",
     "output_type": "stream",
     "text": [
      "[\n",
      "  {\n",
      "    \"id\": 707860,\n",
      "    \"name\": \"Hurzuf\",\n",
      "    \"country\": \"UA\",\n",
      "    \"coord\": {\n",
      "      \"lon\": 34.283333,\n",
      "      \"lat\": 44.549999\n",
      "    }\n",
      "  },\n"
     ]
    }
   ],
   "source": [
    "!head city.list.json"
   ]
  },
  {
   "cell_type": "code",
   "execution_count": 22,
   "metadata": {},
   "outputs": [],
   "source": [
    "with open('city.list.json','r') as inFile:\n",
    "    citiesJson=json.loads(inFile.read())"
   ]
  },
  {
   "cell_type": "code",
   "execution_count": 23,
   "metadata": {},
   "outputs": [
    {
     "data": {
      "text/plain": [
       "list"
      ]
     },
     "execution_count": 23,
     "metadata": {},
     "output_type": "execute_result"
    }
   ],
   "source": [
    "type(citiesJson)"
   ]
  },
  {
   "cell_type": "markdown",
   "metadata": {},
   "source": [
    "## Limit to Chilean cities"
   ]
  },
  {
   "cell_type": "code",
   "execution_count": 24,
   "metadata": {},
   "outputs": [],
   "source": [
    "citiesJsonCL=list(filter(lambda x:x['country']=='CL', citiesJson))"
   ]
  },
  {
   "cell_type": "code",
   "execution_count": 25,
   "metadata": {},
   "outputs": [
    {
     "data": {
      "text/plain": [
       "369"
      ]
     },
     "execution_count": 25,
     "metadata": {},
     "output_type": "execute_result"
    }
   ],
   "source": [
    "len(citiesJsonCL)"
   ]
  },
  {
   "cell_type": "code",
   "execution_count": 26,
   "metadata": {},
   "outputs": [],
   "source": [
    "cities=list(map(lambda x:x['name'], citiesJsonCL))\n",
    "ids=list(map(lambda x:x['id'], citiesJsonCL))"
   ]
  },
  {
   "cell_type": "code",
   "execution_count": 27,
   "metadata": {},
   "outputs": [],
   "source": [
    "res=getData(cities[0])"
   ]
  },
  {
   "cell_type": "code",
   "execution_count": 28,
   "metadata": {},
   "outputs": [
    {
     "data": {
      "text/plain": [
       "<Response [200]>"
      ]
     },
     "execution_count": 28,
     "metadata": {},
     "output_type": "execute_result"
    }
   ],
   "source": [
    "res"
   ]
  },
  {
   "cell_type": "markdown",
   "metadata": {},
   "source": [
    "## Cycle through cities"
   ]
  },
  {
   "cell_type": "code",
   "execution_count": 29,
   "metadata": {},
   "outputs": [
    {
     "name": "stdout",
     "output_type": "stream",
     "text": [
      "Error grabbing data for Longavi\n",
      "Not Found\n",
      "Error grabbing data for Machali\n",
      "Not Found\n",
      "Error grabbing data for Vicuna\n",
      "Not Found\n",
      "Error grabbing data for Villa Presidente Frei, Nunoa, Santiago, Chile\n",
      "Not Found\n"
     ]
    }
   ],
   "source": [
    "for i,name in zip(ids, cities):\n",
    "    res=getData(name)\n",
    "    if not res.status_code==200:\n",
    "        print('Error grabbing data for {}'.format(name))\n",
    "        print(res.reason)\n",
    "    else:\n",
    "        try:\n",
    "            weatherCollection.insert_one(res.json())\n",
    "        except e:\n",
    "            print('Error inserting into DB {}'.format(e))\n",
    "            print('City: {}'.format(name))\n",
    "    \n",
    "    time.sleep(1)"
   ]
  },
  {
   "cell_type": "code",
   "execution_count": 30,
   "metadata": {},
   "outputs": [],
   "source": [
    "def getTimestamp(dt):\n",
    "    return pd.datetime.fromtimestamp(dt)"
   ]
  },
  {
   "cell_type": "code",
   "execution_count": 31,
   "metadata": {},
   "outputs": [],
   "source": [
    "def getDate(tstamp):\n",
    "    dt=datetime.datetime.fromtimestamp(tstamp)\n",
    "    return dt.strftime('%b %d - %H:%m')"
   ]
  },
  {
   "cell_type": "code",
   "execution_count": 33,
   "metadata": {},
   "outputs": [
    {
     "data": {
      "text/plain": [
       "366"
      ]
     },
     "execution_count": 33,
     "metadata": {},
     "output_type": "execute_result"
    }
   ],
   "source": [
    "weatherCollection.estimated_document_count()"
   ]
  },
  {
   "cell_type": "markdown",
   "metadata": {},
   "source": [
    "## Querying MongoDB for useful information"
   ]
  },
  {
   "cell_type": "code",
   "execution_count": 34,
   "metadata": {},
   "outputs": [],
   "source": [
    "cur=weatherCollection.find()"
   ]
  },
  {
   "cell_type": "code",
   "execution_count": 35,
   "metadata": {},
   "outputs": [],
   "source": [
    "sortedCur=cur.sort('main.temp')"
   ]
  },
  {
   "cell_type": "code",
   "execution_count": 36,
   "metadata": {},
   "outputs": [
    {
     "name": "stdout",
     "output_type": "stream",
     "text": [
      "Región Aisén del General Carlos Ibáñez del Campo\n",
      "266.923\n",
      "Putre\n",
      "269.023\n",
      "Caletones\n",
      "269.523\n",
      "Cochrane\n",
      "271.923\n",
      "Tambillo\n",
      "274.15\n",
      "Puerto Williams\n",
      "275.15\n",
      "Región de Magallanes y de la Antártica Chilena\n",
      "275.573\n",
      "Melipeuco\n",
      "275.973\n",
      "Región de Arica y Parinacota\n",
      "276.323\n",
      "Puerto Natales\n",
      "277.073\n"
     ]
    }
   ],
   "source": [
    "for doc in sortedCur.limit(10):\n",
    "    try:\n",
    "        print(doc['name'])\n",
    "        print(doc['main']['temp'])\n",
    "    except:\n",
    "        print('Error: missing name/temp')"
   ]
  },
  {
   "cell_type": "code",
   "execution_count": 43,
   "metadata": {},
   "outputs": [
    {
     "data": {
      "text/plain": [
       "366"
      ]
     },
     "execution_count": 43,
     "metadata": {},
     "output_type": "execute_result"
    }
   ],
   "source": [
    "cur.collection.estimated_document_count()"
   ]
  },
  {
   "cell_type": "markdown",
   "metadata": {},
   "source": [
    "## Find the max recorded temperatures over time per station"
   ]
  },
  {
   "cell_type": "code",
   "execution_count": 44,
   "metadata": {},
   "outputs": [],
   "source": [
    "pipeline=[]"
   ]
  },
  {
   "cell_type": "code",
   "execution_count": 45,
   "metadata": {},
   "outputs": [],
   "source": [
    "pipeline.append({'$group':{'_id':'$name', 'maxTemp':{'$max': '$main.temp'}}})"
   ]
  },
  {
   "cell_type": "code",
   "execution_count": 46,
   "metadata": {},
   "outputs": [],
   "source": [
    "pipeline.append({'$limit':10})"
   ]
  },
  {
   "cell_type": "code",
   "execution_count": 47,
   "metadata": {},
   "outputs": [],
   "source": [
    "cur=weatherCollection.aggregate(pipeline=pipeline)"
   ]
  },
  {
   "cell_type": "code",
   "execution_count": 48,
   "metadata": {},
   "outputs": [
    {
     "name": "stdout",
     "output_type": "stream",
     "text": [
      "Provincia de Santiago 300.77\n",
      "Las Gaviotas 299.123\n",
      "Putre 269.023\n",
      "Arica 288.03\n",
      "Santiago 292.15\n",
      "Futaleufu 284.56\n",
      "El Arrayán 292.15\n",
      "Puerto Bories 277.073\n",
      "Barrio Bellavista 296.073\n",
      "Castro 282.123\n"
     ]
    }
   ],
   "source": [
    "for d in cur:\n",
    "    print(d['_id'], d['maxTemp'])"
   ]
  },
  {
   "cell_type": "markdown",
   "metadata": {},
   "source": [
    "## Get datetime of max temp per station"
   ]
  },
  {
   "cell_type": "code",
   "execution_count": 49,
   "metadata": {},
   "outputs": [],
   "source": [
    "pipeline=[]"
   ]
  },
  {
   "cell_type": "code",
   "execution_count": 50,
   "metadata": {},
   "outputs": [],
   "source": [
    "pipeline.append({'$match':{'name':{'$exists':True}}})"
   ]
  },
  {
   "cell_type": "code",
   "execution_count": 51,
   "metadata": {},
   "outputs": [],
   "source": [
    "pipeline.append({'$sort':{'name':1, 'main.temp':-1}})"
   ]
  },
  {
   "cell_type": "code",
   "execution_count": 52,
   "metadata": {},
   "outputs": [],
   "source": [
    "pipeline.append({'$group':{'_id':'$name', 'maxTemp':{'$first':'$main.temp'}, 'date':{'$first':'$dt'}}})"
   ]
  },
  {
   "cell_type": "code",
   "execution_count": 53,
   "metadata": {},
   "outputs": [],
   "source": [
    "pipeline.append({'$limit':10})"
   ]
  },
  {
   "cell_type": "code",
   "execution_count": 54,
   "metadata": {},
   "outputs": [],
   "source": [
    "cur=weatherCollection.aggregate(pipeline=pipeline)"
   ]
  },
  {
   "cell_type": "code",
   "execution_count": 55,
   "metadata": {},
   "outputs": [
    {
     "name": "stdout",
     "output_type": "stream",
     "text": [
      "Aug 26 - 20:08 Ñuñoa 292.15\n",
      "Aug 26 - 19:08 la Reina 298.11\n",
      "Aug 26 - 20:08 Zapallar 285.15\n",
      "Aug 26 - 20:08 Yumbel 286.15\n",
      "Aug 26 - 20:08 Vitacura 292.15\n",
      "Aug 26 - 20:08 Villa Alhué 284.15\n",
      "Aug 26 - 21:08 Vallenar 285.123\n",
      "Aug 26 - 20:08 Valdivia de Paine 292.15\n",
      "Aug 26 - 20:08 Tongoy 285.15\n",
      "Aug 26 - 21:08 Tome 297.15\n"
     ]
    }
   ],
   "source": [
    "for d in cur:\n",
    "    print(getDate(d['date']), d['_id'], d['maxTemp'])"
   ]
  },
  {
   "cell_type": "code",
   "execution_count": null,
   "metadata": {},
   "outputs": [],
   "source": []
  },
  {
   "cell_type": "code",
   "execution_count": null,
   "metadata": {},
   "outputs": [],
   "source": []
  },
  {
   "cell_type": "code",
   "execution_count": null,
   "metadata": {},
   "outputs": [],
   "source": []
  }
 ],
 "metadata": {
  "kernelspec": {
   "display_name": "Python 3",
   "language": "python",
   "name": "python3"
  },
  "language_info": {
   "codemirror_mode": {
    "name": "ipython",
    "version": 3
   },
   "file_extension": ".py",
   "mimetype": "text/x-python",
   "name": "python",
   "nbconvert_exporter": "python",
   "pygments_lexer": "ipython3",
   "version": "3.7.0"
  }
 },
 "nbformat": 4,
 "nbformat_minor": 2
}
